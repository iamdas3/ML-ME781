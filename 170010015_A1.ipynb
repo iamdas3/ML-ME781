{
  "nbformat": 4,
  "nbformat_minor": 0,
  "metadata": {
    "colab": {
      "name": "170010015_A1.ipynb",
      "provenance": [],
      "authorship_tag": "ABX9TyPJ5Eu0L9ErgS5+iL3CQGNq",
      "include_colab_link": true
    },
    "kernelspec": {
      "name": "python3",
      "display_name": "Python 3"
    }
  },
  "cells": [
    {
      "cell_type": "markdown",
      "metadata": {
        "id": "view-in-github",
        "colab_type": "text"
      },
      "source": [
        "<a href=\"https://colab.research.google.com/github/iamdas3/ML-ME781/blob/master/170010015_A1.ipynb\" target=\"_parent\"><img src=\"https://colab.research.google.com/assets/colab-badge.svg\" alt=\"Open In Colab\"/></a>"
      ]
    },
    {
      "cell_type": "markdown",
      "metadata": {
        "id": "8IrKSu05S8f7",
        "colab_type": "text"
      },
      "source": [
        "#Prime Number Problem"
      ]
    },
    {
      "cell_type": "markdown",
      "metadata": {
        "id": "XGU0Kw1WR74p",
        "colab_type": "text"
      },
      "source": [
        "This block is a trial block to try and catch error as it is going to be further used in the program to give a proper output for invalid inputs rather than throwing errors"
      ]
    },
    {
      "cell_type": "code",
      "metadata": {
        "id": "yRRYB5K49WhC",
        "colab_type": "code",
        "colab": {
          "base_uri": "https://localhost:8080/",
          "height": 34
        },
        "outputId": "f60d97a7-ce3f-4846-958b-61f096a4198f"
      },
      "source": [
        "try:\n",
        "  print(int('XYZ'))\n",
        "except:\n",
        "  print(\"Not a number\")\n"
      ],
      "execution_count": 1,
      "outputs": [
        {
          "output_type": "stream",
          "text": [
            "Not a number\n"
          ],
          "name": "stdout"
        }
      ]
    },
    {
      "cell_type": "markdown",
      "metadata": {
        "id": "ae499Iy-SZwZ",
        "colab_type": "text"
      },
      "source": [
        "Code to check whether the given number is a prime number and will use this fuction later rather than again writing the same inside the original program block"
      ]
    },
    {
      "cell_type": "code",
      "metadata": {
        "id": "uQdOmYH9G8d7",
        "colab_type": "code",
        "colab": {}
      },
      "source": [
        "def prime(n):\n",
        "  count=0\n",
        "  for i in range(1, n+1):\n",
        "    if n%i==0:\n",
        "      count += 1\n",
        "    else:\n",
        "      continue\n",
        "  if count == 2:\n",
        "    return True\n",
        "  else:\n",
        "    return False"
      ],
      "execution_count": 2,
      "outputs": []
    },
    {
      "cell_type": "code",
      "metadata": {
        "id": "mXrngQwRHpqj",
        "colab_type": "code",
        "colab": {
          "base_uri": "https://localhost:8080/",
          "height": 34
        },
        "outputId": "a086ecec-76e7-4ca5-d33f-384fbe9a0b95"
      },
      "source": [
        "prime(24)"
      ],
      "execution_count": 3,
      "outputs": [
        {
          "output_type": "execute_result",
          "data": {
            "text/plain": [
              "False"
            ]
          },
          "metadata": {
            "tags": []
          },
          "execution_count": 3
        }
      ]
    },
    {
      "cell_type": "code",
      "metadata": {
        "id": "R_zrq-DCHr6k",
        "colab_type": "code",
        "colab": {
          "base_uri": "https://localhost:8080/",
          "height": 34
        },
        "outputId": "f17dbe13-41e7-475a-9aca-91fadc74031a"
      },
      "source": [
        "prime(7)"
      ],
      "execution_count": 4,
      "outputs": [
        {
          "output_type": "execute_result",
          "data": {
            "text/plain": [
              "True"
            ]
          },
          "metadata": {
            "tags": []
          },
          "execution_count": 4
        }
      ]
    },
    {
      "cell_type": "code",
      "metadata": {
        "id": "7v6QzpC9Hvqq",
        "colab_type": "code",
        "colab": {
          "base_uri": "https://localhost:8080/",
          "height": 34
        },
        "outputId": "c473bb8e-6325-4978-8f60-a063dba5c5c1"
      },
      "source": [
        "prime(31)"
      ],
      "execution_count": 5,
      "outputs": [
        {
          "output_type": "execute_result",
          "data": {
            "text/plain": [
              "True"
            ]
          },
          "metadata": {
            "tags": []
          },
          "execution_count": 5
        }
      ]
    },
    {
      "cell_type": "code",
      "metadata": {
        "id": "CpHJ-oAWHxNx",
        "colab_type": "code",
        "colab": {}
      },
      "source": [
        "def get_primenumbers(n):\n",
        "  try:\n",
        "    n_i = int(n)\n",
        "    if n_i<0:\n",
        "      print(\"You have entered wrong input\")\n",
        "    l = []\n",
        "    for i in range(n_i):\n",
        "      if prime(i):\n",
        "        l.append(i)\n",
        "      else:\n",
        "        continue\n",
        "    print(l)\n",
        "  except:\n",
        "    print(\"You have entered wrong input\")\n"
      ],
      "execution_count": 6,
      "outputs": []
    },
    {
      "cell_type": "code",
      "metadata": {
        "id": "bSOT9vpPILPw",
        "colab_type": "code",
        "colab": {
          "base_uri": "https://localhost:8080/",
          "height": 34
        },
        "outputId": "8a330218-dc87-46ba-d76c-ac5a19cb9c39"
      },
      "source": [
        "get_primenumbers('xyz')"
      ],
      "execution_count": 7,
      "outputs": [
        {
          "output_type": "stream",
          "text": [
            "You have entered wrong input\n"
          ],
          "name": "stdout"
        }
      ]
    },
    {
      "cell_type": "code",
      "metadata": {
        "id": "iFaTvjbsJuYJ",
        "colab_type": "code",
        "colab": {
          "base_uri": "https://localhost:8080/",
          "height": 34
        },
        "outputId": "76c2490e-4bde-41dc-a141-82c9077ccd93"
      },
      "source": [
        "get_primenumbers('13')"
      ],
      "execution_count": 8,
      "outputs": [
        {
          "output_type": "stream",
          "text": [
            "[2, 3, 5, 7, 11]\n"
          ],
          "name": "stdout"
        }
      ]
    },
    {
      "cell_type": "code",
      "metadata": {
        "id": "TCs6pLgjJwPX",
        "colab_type": "code",
        "colab": {
          "base_uri": "https://localhost:8080/",
          "height": 34
        },
        "outputId": "2700a0cb-ca4b-432f-c825-4899483852bc"
      },
      "source": [
        "get_primenumbers(13.5)"
      ],
      "execution_count": 9,
      "outputs": [
        {
          "output_type": "stream",
          "text": [
            "[2, 3, 5, 7, 11]\n"
          ],
          "name": "stdout"
        }
      ]
    },
    {
      "cell_type": "code",
      "metadata": {
        "id": "i6wcVMv9J35R",
        "colab_type": "code",
        "colab": {
          "base_uri": "https://localhost:8080/",
          "height": 51
        },
        "outputId": "997ac2fe-56fe-4135-bd4c-99014935b86d"
      },
      "source": [
        "get_primenumbers(-9)"
      ],
      "execution_count": 10,
      "outputs": [
        {
          "output_type": "stream",
          "text": [
            "You have entered wrong input\n",
            "[]\n"
          ],
          "name": "stdout"
        }
      ]
    },
    {
      "cell_type": "code",
      "metadata": {
        "id": "ztWonq6vRxk1",
        "colab_type": "code",
        "colab": {
          "base_uri": "https://localhost:8080/",
          "height": 34
        },
        "outputId": "e6ace756-bae2-40e0-bfdb-fe9544cb318c"
      },
      "source": [
        "get_primenumbers('9')"
      ],
      "execution_count": 11,
      "outputs": [
        {
          "output_type": "stream",
          "text": [
            "[2, 3, 5, 7]\n"
          ],
          "name": "stdout"
        }
      ]
    },
    {
      "cell_type": "code",
      "metadata": {
        "id": "1OuCasw8RzQf",
        "colab_type": "code",
        "colab": {
          "base_uri": "https://localhost:8080/",
          "height": 34
        },
        "outputId": "1240aef3-c427-41f5-f030-44bf7e086470"
      },
      "source": [
        "get_primenumbers('a')"
      ],
      "execution_count": 12,
      "outputs": [
        {
          "output_type": "stream",
          "text": [
            "You have entered wrong input\n"
          ],
          "name": "stdout"
        }
      ]
    },
    {
      "cell_type": "code",
      "metadata": {
        "id": "IZEA_iujR0wY",
        "colab_type": "code",
        "colab": {
          "base_uri": "https://localhost:8080/",
          "height": 34
        },
        "outputId": "a6a0c04f-9c86-4eea-bd1a-9ef24cac9fad"
      },
      "source": [
        "get_primenumbers(7.893)"
      ],
      "execution_count": 13,
      "outputs": [
        {
          "output_type": "stream",
          "text": [
            "[2, 3, 5]\n"
          ],
          "name": "stdout"
        }
      ]
    },
    {
      "cell_type": "markdown",
      "metadata": {
        "id": "aIjva2_XkBLo",
        "colab_type": "text"
      },
      "source": [
        "#Recursive Problems"
      ]
    },
    {
      "cell_type": "markdown",
      "metadata": {
        "id": "YbxBoNwoknMq",
        "colab_type": "text"
      },
      "source": [
        "Just wanted to check how recursive function works and how it can replace for loop so that I can use recursion as asked in the question rather than for loop"
      ]
    },
    {
      "cell_type": "code",
      "metadata": {
        "id": "_WDYgUMek7U0",
        "colab_type": "code",
        "colab": {
          "base_uri": "https://localhost:8080/",
          "height": 136
        },
        "outputId": "b58e70ea-83e8-4778-eb97-a2642cea0a35"
      },
      "source": [
        "def for_factorial(n):\n",
        "  prod = 1\n",
        "  for i in range(n, 1, -1):\n",
        "    print(i)\n",
        "    prod *= i\n",
        "\n",
        "  print(prod)\n",
        "for_factorial(7)\n"
      ],
      "execution_count": 14,
      "outputs": [
        {
          "output_type": "stream",
          "text": [
            "7\n",
            "6\n",
            "5\n",
            "4\n",
            "3\n",
            "2\n",
            "5040\n"
          ],
          "name": "stdout"
        }
      ]
    },
    {
      "cell_type": "code",
      "metadata": {
        "id": "wE5n6XDzkIif",
        "colab_type": "code",
        "colab": {
          "base_uri": "https://localhost:8080/",
          "height": 136
        },
        "outputId": "017c19c7-5296-493b-9524-b709e9f69adc"
      },
      "source": [
        "def factorial(n):\n",
        "  if n==1:\n",
        "    return n\n",
        "  else:\n",
        "    print(n)\n",
        "    return n*factorial(n-1)\n",
        "factorial(7)"
      ],
      "execution_count": 15,
      "outputs": [
        {
          "output_type": "stream",
          "text": [
            "7\n",
            "6\n",
            "5\n",
            "4\n",
            "3\n",
            "2\n"
          ],
          "name": "stdout"
        },
        {
          "output_type": "execute_result",
          "data": {
            "text/plain": [
              "5040"
            ]
          },
          "metadata": {
            "tags": []
          },
          "execution_count": 15
        }
      ]
    },
    {
      "cell_type": "markdown",
      "metadata": {
        "id": "GipOMhSBTA4c",
        "colab_type": "text"
      },
      "source": [
        "#Tower of Hanoi"
      ]
    },
    {
      "cell_type": "markdown",
      "metadata": {
        "id": "DkP1DivsdOQE",
        "colab_type": "text"
      },
      "source": [
        "The following video explains very clearly:\n",
        "https://www.youtube.com/watch?v=cnQ6T8GeXFM\n",
        "\n",
        "It says that I have to move all the disks except the largest one from source to the workspace and then move the largest one to the destination and hence keep repeating such steps by placing the second largest over the largest but to do that consider the others as source, workspace and destination respectively.\n",
        "\n",
        "Hence, if we have 3 rings to be put from source to destination, our aim is to first put the 2 smaller rings on workspace and move the largest onto the destination.\n",
        "Now we have 2 rings on workspace and 1 on destination; now the workspace is our source; the previous source becomes our workspace; hence we move the smallest ring to the workspace and then 2nd smallest over destination and finally the smallest on top of all.\n"
      ]
    },
    {
      "cell_type": "markdown",
      "metadata": {
        "id": "fJgVPjtGmmzE",
        "colab_type": "text"
      },
      "source": [
        "##Algorithm"
      ]
    },
    {
      "cell_type": "markdown",
      "metadata": {
        "id": "QDW6yYd9msix",
        "colab_type": "text"
      },
      "source": [
        "Till the time there is some disk in source or workspace, we need to continue shifting the disks till the time all the disks are at the destination.\n",
        "So, looping over for n, till the time n=0 for source and workspace; we move (n-1) disks from source to auxiliary and nth disk from source to destination and then source becomes workspace and workspace into source and hence this time move (n-2) disk from workspace(now source) to source(now workspace) and (n-1)th from workspace(source) to destination.\n",
        "\n",
        "Then repeat till n=0, i.e. the number of disks in workspace and source becomes 0."
      ]
    },
    {
      "cell_type": "code",
      "metadata": {
        "id": "O4y-8-QvR3rV",
        "colab_type": "code",
        "colab": {
          "base_uri": "https://localhost:8080/",
          "height": 561
        },
        "outputId": "66e5503a-5e97-46c3-c1af-ef7ce96d4243"
      },
      "source": [
        "count = 1\n",
        "def HanoiTower(n, source, destination, workspace):\n",
        "  global count\n",
        "  if n>0:\n",
        "    HanoiTower(n-1, source, workspace, destination)\n",
        "\n",
        "    delete = source.pop()\n",
        "    destination.append(delete)\n",
        "\n",
        "    print(\"Step \"+str(count)+\" = \", A, B, C)\n",
        "    count += 1\n",
        "\n",
        "    HanoiTower(n-1, workspace, destination, source)\n",
        "\n",
        "\n",
        "if __name__ == '__main__':\n",
        "  n = int(input('input = '))\n",
        "  A = [i for i in range(n, 0, -1)]\n",
        "  B = []\n",
        "  C = []\n",
        "\n",
        "  result = HanoiTower(n, A, B, C)"
      ],
      "execution_count": 16,
      "outputs": [
        {
          "output_type": "stream",
          "text": [
            "input = 5\n",
            "Step 1 =  [5, 4, 3, 2] [1] []\n",
            "Step 2 =  [5, 4, 3] [1] [2]\n",
            "Step 3 =  [5, 4, 3] [] [2, 1]\n",
            "Step 4 =  [5, 4] [3] [2, 1]\n",
            "Step 5 =  [5, 4, 1] [3] [2]\n",
            "Step 6 =  [5, 4, 1] [3, 2] []\n",
            "Step 7 =  [5, 4] [3, 2, 1] []\n",
            "Step 8 =  [5] [3, 2, 1] [4]\n",
            "Step 9 =  [5] [3, 2] [4, 1]\n",
            "Step 10 =  [5, 2] [3] [4, 1]\n",
            "Step 11 =  [5, 2, 1] [3] [4]\n",
            "Step 12 =  [5, 2, 1] [] [4, 3]\n",
            "Step 13 =  [5, 2] [1] [4, 3]\n",
            "Step 14 =  [5] [1] [4, 3, 2]\n",
            "Step 15 =  [5] [] [4, 3, 2, 1]\n",
            "Step 16 =  [] [5] [4, 3, 2, 1]\n",
            "Step 17 =  [1] [5] [4, 3, 2]\n",
            "Step 18 =  [1] [5, 2] [4, 3]\n",
            "Step 19 =  [] [5, 2, 1] [4, 3]\n",
            "Step 20 =  [3] [5, 2, 1] [4]\n",
            "Step 21 =  [3] [5, 2] [4, 1]\n",
            "Step 22 =  [3, 2] [5] [4, 1]\n",
            "Step 23 =  [3, 2, 1] [5] [4]\n",
            "Step 24 =  [3, 2, 1] [5, 4] []\n",
            "Step 25 =  [3, 2] [5, 4, 1] []\n",
            "Step 26 =  [3] [5, 4, 1] [2]\n",
            "Step 27 =  [3] [5, 4] [2, 1]\n",
            "Step 28 =  [] [5, 4, 3] [2, 1]\n",
            "Step 29 =  [1] [5, 4, 3] [2]\n",
            "Step 30 =  [1] [5, 4, 3, 2] []\n",
            "Step 31 =  [] [5, 4, 3, 2, 1] []\n"
          ],
          "name": "stdout"
        }
      ]
    },
    {
      "cell_type": "code",
      "metadata": {
        "id": "33gvgBx8tKFN",
        "colab_type": "code",
        "colab": {}
      },
      "source": [
        ""
      ],
      "execution_count": 16,
      "outputs": []
    }
  ]
}